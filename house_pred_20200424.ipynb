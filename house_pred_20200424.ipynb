{
  "nbformat": 4,
  "nbformat_minor": 0,
  "metadata": {
    "colab": {
      "name": "house_pred_20200424.ipynb",
      "provenance": [],
      "collapsed_sections": []
    },
    "kernelspec": {
      "name": "python3",
      "display_name": "Python 3"
    }
  },
  "cells": [
    {
      "cell_type": "code",
      "metadata": {
        "id": "Fv0XPMZck0uc",
        "colab_type": "code",
        "colab": {}
      },
      "source": [
        "import pandas as pd\n",
        "import numpy as np "
      ],
      "execution_count": 0,
      "outputs": []
    },
    {
      "cell_type": "code",
      "metadata": {
        "id": "kiFGcSlg7Jos",
        "colab_type": "code",
        "colab": {}
      },
      "source": [
        "input_fname = \"realcasehousebitprediction/house1.csv\""
      ],
      "execution_count": 0,
      "outputs": []
    },
    {
      "cell_type": "code",
      "metadata": {
        "id": "6_Yyx_csMtfs",
        "colab_type": "code",
        "outputId": "23258105-bae4-4e12-83f6-91ff18c8def5",
        "colab": {
          "base_uri": "https://localhost:8080/",
          "height": 35
        }
      },
      "source": [
        "!git clone https://github.com/purelyvivid/realcasehousebitprediction.git"
      ],
      "execution_count": 0,
      "outputs": [
        {
          "output_type": "stream",
          "text": [
            "fatal: destination path 'realcasehousebitprediction' already exists and is not an empty directory.\n"
          ],
          "name": "stdout"
        }
      ]
    },
    {
      "cell_type": "code",
      "metadata": {
        "id": "Etkh3c8zk5Fw",
        "colab_type": "code",
        "outputId": "aa71018b-ee86-45b4-878e-ee1188ce62e5",
        "colab": {
          "base_uri": "https://localhost:8080/",
          "height": 223
        }
      },
      "source": [
        "df = pd.read_csv(input_fname, encoding=\"big5\")\n",
        "df.head()"
      ],
      "execution_count": 0,
      "outputs": [
        {
          "output_type": "execute_result",
          "data": {
            "text/html": [
              "<div>\n",
              "<style scoped>\n",
              "    .dataframe tbody tr th:only-of-type {\n",
              "        vertical-align: middle;\n",
              "    }\n",
              "\n",
              "    .dataframe tbody tr th {\n",
              "        vertical-align: top;\n",
              "    }\n",
              "\n",
              "    .dataframe thead th {\n",
              "        text-align: right;\n",
              "    }\n",
              "</style>\n",
              "<table border=\"1\" class=\"dataframe\">\n",
              "  <thead>\n",
              "    <tr style=\"text-align: right;\">\n",
              "      <th></th>\n",
              "      <th>次</th>\n",
              "      <th>樓層</th>\n",
              "      <th>棟</th>\n",
              "      <th>號</th>\n",
              "      <th>出售面積(坪)</th>\n",
              "      <th>持分土地面積(坪)</th>\n",
              "      <th>標售單價(元/m2)</th>\n",
              "      <th>標售總價(元)</th>\n",
              "      <th>投標數</th>\n",
              "      <th>得標總價(元)/標售總價(元)</th>\n",
              "    </tr>\n",
              "  </thead>\n",
              "  <tbody>\n",
              "    <tr>\n",
              "      <th>0</th>\n",
              "      <td>2019</td>\n",
              "      <td>3</td>\n",
              "      <td>C</td>\n",
              "      <td>_1</td>\n",
              "      <td>29.79</td>\n",
              "      <td>5.31</td>\n",
              "      <td>69,118</td>\n",
              "      <td>6,806,071</td>\n",
              "      <td>2</td>\n",
              "      <td>1.0171</td>\n",
              "    </tr>\n",
              "    <tr>\n",
              "      <th>1</th>\n",
              "      <td>2019</td>\n",
              "      <td>5</td>\n",
              "      <td>C</td>\n",
              "      <td>_1</td>\n",
              "      <td>29.79</td>\n",
              "      <td>5.31</td>\n",
              "      <td>69,118</td>\n",
              "      <td>6,806,071</td>\n",
              "      <td>3</td>\n",
              "      <td>1.0088</td>\n",
              "    </tr>\n",
              "    <tr>\n",
              "      <th>2</th>\n",
              "      <td>2019</td>\n",
              "      <td>6</td>\n",
              "      <td>C</td>\n",
              "      <td>_1</td>\n",
              "      <td>29.79</td>\n",
              "      <td>5.31</td>\n",
              "      <td>69,118</td>\n",
              "      <td>6,806,071</td>\n",
              "      <td>4</td>\n",
              "      <td>1.0298</td>\n",
              "    </tr>\n",
              "    <tr>\n",
              "      <th>3</th>\n",
              "      <td>2019</td>\n",
              "      <td>7</td>\n",
              "      <td>C</td>\n",
              "      <td>_1</td>\n",
              "      <td>29.79</td>\n",
              "      <td>5.31</td>\n",
              "      <td>69,723</td>\n",
              "      <td>6,865,651</td>\n",
              "      <td>6</td>\n",
              "      <td>1.1055</td>\n",
              "    </tr>\n",
              "    <tr>\n",
              "      <th>4</th>\n",
              "      <td>2019</td>\n",
              "      <td>4</td>\n",
              "      <td>D</td>\n",
              "      <td>_1</td>\n",
              "      <td>29.79</td>\n",
              "      <td>5.31</td>\n",
              "      <td>68,543</td>\n",
              "      <td>6,749,470</td>\n",
              "      <td>5</td>\n",
              "      <td>1.0214</td>\n",
              "    </tr>\n",
              "  </tbody>\n",
              "</table>\n",
              "</div>"
            ],
            "text/plain": [
              "      次  樓層  棟   號  ...  標售單價(元/m2)    標售總價(元) 投標數 得標總價(元)/標售總價(元)\n",
              "0  2019   3  C  _1  ...      69,118  6,806,071   2          1.0171\n",
              "1  2019   5  C  _1  ...      69,118  6,806,071   3          1.0088\n",
              "2  2019   6  C  _1  ...      69,118  6,806,071   4          1.0298\n",
              "3  2019   7  C  _1  ...      69,723  6,865,651   6          1.1055\n",
              "4  2019   4  D  _1  ...      68,543  6,749,470   5          1.0214\n",
              "\n",
              "[5 rows x 10 columns]"
            ]
          },
          "metadata": {
            "tags": []
          },
          "execution_count": 4
        }
      ]
    },
    {
      "cell_type": "code",
      "metadata": {
        "id": "8t399_Shoikm",
        "colab_type": "code",
        "colab": {}
      },
      "source": [
        "to_int = lambda x: int(x.replace(\",\",\"\"))"
      ],
      "execution_count": 0,
      "outputs": []
    },
    {
      "cell_type": "code",
      "metadata": {
        "id": "Wagk1VqKpKQo",
        "colab_type": "code",
        "colab": {}
      },
      "source": [
        "df[\"標售單價(元/m2)\"] = df[\"標售單價(元/m2)\"].apply(to_int)\n",
        "df[\"標售總價(元)\"] = df[\"標售總價(元)\"].apply(to_int)"
      ],
      "execution_count": 0,
      "outputs": []
    },
    {
      "cell_type": "code",
      "metadata": {
        "id": "Qt7u6T3i9K3s",
        "colab_type": "code",
        "colab": {}
      },
      "source": [
        "df_op = df.copy()"
      ],
      "execution_count": 0,
      "outputs": []
    },
    {
      "cell_type": "code",
      "metadata": {
        "id": "-98mxhkNpefq",
        "colab_type": "code",
        "outputId": "898dc0ce-cab8-4652-8be2-3e2c55ee7a43",
        "colab": {
          "base_uri": "https://localhost:8080/",
          "height": 223
        }
      },
      "source": [
        "df.head()"
      ],
      "execution_count": 0,
      "outputs": [
        {
          "output_type": "execute_result",
          "data": {
            "text/html": [
              "<div>\n",
              "<style scoped>\n",
              "    .dataframe tbody tr th:only-of-type {\n",
              "        vertical-align: middle;\n",
              "    }\n",
              "\n",
              "    .dataframe tbody tr th {\n",
              "        vertical-align: top;\n",
              "    }\n",
              "\n",
              "    .dataframe thead th {\n",
              "        text-align: right;\n",
              "    }\n",
              "</style>\n",
              "<table border=\"1\" class=\"dataframe\">\n",
              "  <thead>\n",
              "    <tr style=\"text-align: right;\">\n",
              "      <th></th>\n",
              "      <th>次</th>\n",
              "      <th>樓層</th>\n",
              "      <th>棟</th>\n",
              "      <th>號</th>\n",
              "      <th>出售面積(坪)</th>\n",
              "      <th>持分土地面積(坪)</th>\n",
              "      <th>標售單價(元/m2)</th>\n",
              "      <th>標售總價(元)</th>\n",
              "      <th>投標數</th>\n",
              "      <th>得標總價(元)/標售總價(元)</th>\n",
              "    </tr>\n",
              "  </thead>\n",
              "  <tbody>\n",
              "    <tr>\n",
              "      <th>0</th>\n",
              "      <td>2019</td>\n",
              "      <td>3</td>\n",
              "      <td>C</td>\n",
              "      <td>_1</td>\n",
              "      <td>29.79</td>\n",
              "      <td>5.31</td>\n",
              "      <td>69118</td>\n",
              "      <td>6806071</td>\n",
              "      <td>2</td>\n",
              "      <td>1.0171</td>\n",
              "    </tr>\n",
              "    <tr>\n",
              "      <th>1</th>\n",
              "      <td>2019</td>\n",
              "      <td>5</td>\n",
              "      <td>C</td>\n",
              "      <td>_1</td>\n",
              "      <td>29.79</td>\n",
              "      <td>5.31</td>\n",
              "      <td>69118</td>\n",
              "      <td>6806071</td>\n",
              "      <td>3</td>\n",
              "      <td>1.0088</td>\n",
              "    </tr>\n",
              "    <tr>\n",
              "      <th>2</th>\n",
              "      <td>2019</td>\n",
              "      <td>6</td>\n",
              "      <td>C</td>\n",
              "      <td>_1</td>\n",
              "      <td>29.79</td>\n",
              "      <td>5.31</td>\n",
              "      <td>69118</td>\n",
              "      <td>6806071</td>\n",
              "      <td>4</td>\n",
              "      <td>1.0298</td>\n",
              "    </tr>\n",
              "    <tr>\n",
              "      <th>3</th>\n",
              "      <td>2019</td>\n",
              "      <td>7</td>\n",
              "      <td>C</td>\n",
              "      <td>_1</td>\n",
              "      <td>29.79</td>\n",
              "      <td>5.31</td>\n",
              "      <td>69723</td>\n",
              "      <td>6865651</td>\n",
              "      <td>6</td>\n",
              "      <td>1.1055</td>\n",
              "    </tr>\n",
              "    <tr>\n",
              "      <th>4</th>\n",
              "      <td>2019</td>\n",
              "      <td>4</td>\n",
              "      <td>D</td>\n",
              "      <td>_1</td>\n",
              "      <td>29.79</td>\n",
              "      <td>5.31</td>\n",
              "      <td>68543</td>\n",
              "      <td>6749470</td>\n",
              "      <td>5</td>\n",
              "      <td>1.0214</td>\n",
              "    </tr>\n",
              "  </tbody>\n",
              "</table>\n",
              "</div>"
            ],
            "text/plain": [
              "      次  樓層  棟   號  出售面積(坪)  持分土地面積(坪)  標售單價(元/m2)  標售總價(元) 投標數 得標總價(元)/標售總價(元)\n",
              "0  2019   3  C  _1    29.79       5.31       69118  6806071   2          1.0171\n",
              "1  2019   5  C  _1    29.79       5.31       69118  6806071   3          1.0088\n",
              "2  2019   6  C  _1    29.79       5.31       69118  6806071   4          1.0298\n",
              "3  2019   7  C  _1    29.79       5.31       69723  6865651   6          1.1055\n",
              "4  2019   4  D  _1    29.79       5.31       68543  6749470   5          1.0214"
            ]
          },
          "metadata": {
            "tags": []
          },
          "execution_count": 8
        }
      ]
    },
    {
      "cell_type": "code",
      "metadata": {
        "id": "bbhjBpEgCCvn",
        "colab_type": "code",
        "colab": {}
      },
      "source": [
        "no_2019 = np.array(df[\"次\"]==2019)\n",
        "no_2020 = np.array(df[\"次\"]==2020)"
      ],
      "execution_count": 0,
      "outputs": []
    },
    {
      "cell_type": "code",
      "metadata": {
        "id": "TN71mIJz4ZTw",
        "colab_type": "code",
        "colab": {}
      },
      "source": [
        "y_inter = np.array(df.loc[no_2019,\"投標數\"].astype(np.float32))"
      ],
      "execution_count": 0,
      "outputs": []
    },
    {
      "cell_type": "code",
      "metadata": {
        "id": "D9evtgD4oRol",
        "colab_type": "code",
        "colab": {}
      },
      "source": [
        "y = np.array(df.loc[no_2019,\"得標總價(元)/標售總價(元)\"].astype(np.float32))"
      ],
      "execution_count": 0,
      "outputs": []
    },
    {
      "cell_type": "code",
      "metadata": {
        "id": "O0nFKB9fnisk",
        "colab_type": "code",
        "colab": {}
      },
      "source": [
        "feature_names_list = []\n",
        "X_list = []"
      ],
      "execution_count": 0,
      "outputs": []
    },
    {
      "cell_type": "markdown",
      "metadata": {
        "id": "kHxImrqTn1gH",
        "colab_type": "text"
      },
      "source": [
        "# 離散變數 [\"棟\", \"號\"]"
      ]
    },
    {
      "cell_type": "code",
      "metadata": {
        "id": "MjmSNKoYk80-",
        "colab_type": "code",
        "colab": {}
      },
      "source": [
        "from sklearn.preprocessing import OneHotEncoder"
      ],
      "execution_count": 0,
      "outputs": []
    },
    {
      "cell_type": "code",
      "metadata": {
        "id": "XQFKbmKilvsU",
        "colab_type": "code",
        "colab": {}
      },
      "source": [
        "cnames = [\"棟\", \"號\"]"
      ],
      "execution_count": 0,
      "outputs": []
    },
    {
      "cell_type": "code",
      "metadata": {
        "id": "-MO2BZ4zlUej",
        "colab_type": "code",
        "colab": {}
      },
      "source": [
        "ohe = OneHotEncoder(sparse=False)\n",
        "X = ohe.fit_transform(df[cnames])"
      ],
      "execution_count": 0,
      "outputs": []
    },
    {
      "cell_type": "code",
      "metadata": {
        "id": "b51yExOunMv3",
        "colab_type": "code",
        "outputId": "d21a89f9-b112-4be5-f092-a3d32f24cc3b",
        "colab": {
          "base_uri": "https://localhost:8080/",
          "height": 53
        }
      },
      "source": [
        "ohe.get_feature_names()"
      ],
      "execution_count": 0,
      "outputs": [
        {
          "output_type": "execute_result",
          "data": {
            "text/plain": [
              "array(['x0_A', 'x0_B', 'x0_C', 'x0_D', 'x1__1', 'x1__2', 'x1__3', 'x1__5'],\n",
              "      dtype=object)"
            ]
          },
          "metadata": {
            "tags": []
          },
          "execution_count": 16
        }
      ]
    },
    {
      "cell_type": "code",
      "metadata": {
        "id": "qXjE-OVPljU0",
        "colab_type": "code",
        "outputId": "f867fd11-2680-48e4-b725-a2846ec0c899",
        "colab": {
          "base_uri": "https://localhost:8080/",
          "height": 35
        }
      },
      "source": [
        "feature_names = []\n",
        "for i, cn in enumerate(ohe.get_feature_names()):\n",
        "  sp = cn.split(\"_\")\n",
        "  k = cnames[int(sp[0].replace(\"x\",\"\"))]+\"_\"+(\"\".join(sp[1:]))\n",
        "  feature_names.append(k)\n",
        "feature_names"
      ],
      "execution_count": 0,
      "outputs": [
        {
          "output_type": "execute_result",
          "data": {
            "text/plain": [
              "['棟_A', '棟_B', '棟_C', '棟_D', '號_1', '號_2', '號_3', '號_5']"
            ]
          },
          "metadata": {
            "tags": []
          },
          "execution_count": 17
        }
      ]
    },
    {
      "cell_type": "code",
      "metadata": {
        "id": "2rbMO8_wlYlJ",
        "colab_type": "code",
        "colab": {}
      },
      "source": [
        "feature_names_list += feature_names\n",
        "X_list.append(X) "
      ],
      "execution_count": 0,
      "outputs": []
    },
    {
      "cell_type": "markdown",
      "metadata": {
        "id": "TfhqiMuloE1e",
        "colab_type": "text"
      },
      "source": [
        "# 連續變數"
      ]
    },
    {
      "cell_type": "code",
      "metadata": {
        "id": "oHL4eXX-oaX3",
        "colab_type": "code",
        "colab": {}
      },
      "source": [
        "cnames = [ '樓層', '出售面積(坪)', '持分土地面積(坪)', '標售單價(元/m2)', ]"
      ],
      "execution_count": 0,
      "outputs": []
    },
    {
      "cell_type": "code",
      "metadata": {
        "id": "-Yz8nATPoBQf",
        "colab_type": "code",
        "colab": {}
      },
      "source": [
        "from sklearn.preprocessing import StandardScaler"
      ],
      "execution_count": 0,
      "outputs": []
    },
    {
      "cell_type": "code",
      "metadata": {
        "id": "gpsuzU6MoJUN",
        "colab_type": "code",
        "colab": {}
      },
      "source": [
        "ss = StandardScaler()"
      ],
      "execution_count": 0,
      "outputs": []
    },
    {
      "cell_type": "code",
      "metadata": {
        "id": "wdrx4DGToLw-",
        "colab_type": "code",
        "colab": {}
      },
      "source": [
        "X = ss.fit_transform(df[cnames])"
      ],
      "execution_count": 0,
      "outputs": []
    },
    {
      "cell_type": "code",
      "metadata": {
        "id": "W_gS67i5ofDa",
        "colab_type": "code",
        "colab": {}
      },
      "source": [
        "feature_names_list += cnames\n",
        "X_list.append(X) "
      ],
      "execution_count": 0,
      "outputs": []
    },
    {
      "cell_type": "markdown",
      "metadata": {
        "id": "zSNs4ZEQqAzg",
        "colab_type": "text"
      },
      "source": [
        "# 總和"
      ]
    },
    {
      "cell_type": "code",
      "metadata": {
        "id": "glkOrj3lpxjs",
        "colab_type": "code",
        "colab": {}
      },
      "source": [
        "X = np.concatenate(X_list, 1)"
      ],
      "execution_count": 0,
      "outputs": []
    },
    {
      "cell_type": "code",
      "metadata": {
        "id": "hZYmyzqHqVf-",
        "colab_type": "code",
        "colab": {}
      },
      "source": [
        "feature_names = feature_names_list"
      ],
      "execution_count": 0,
      "outputs": []
    },
    {
      "cell_type": "code",
      "metadata": {
        "id": "-AS9SKGkp38C",
        "colab_type": "code",
        "outputId": "330307b9-b30e-49b1-a924-27674b4efa3a",
        "colab": {
          "base_uri": "https://localhost:8080/",
          "height": 35
        }
      },
      "source": [
        "X.shape, len(feature_names)"
      ],
      "execution_count": 0,
      "outputs": [
        {
          "output_type": "execute_result",
          "data": {
            "text/plain": [
              "((42, 12), 12)"
            ]
          },
          "metadata": {
            "tags": []
          },
          "execution_count": 26
        }
      ]
    },
    {
      "cell_type": "markdown",
      "metadata": {
        "id": "6k9D9tY7BYXO",
        "colab_type": "text"
      },
      "source": [
        "# 預測投標數"
      ]
    },
    {
      "cell_type": "code",
      "metadata": {
        "id": "U25hCRW1Ba0c",
        "colab_type": "code",
        "colab": {}
      },
      "source": [
        "X_train, y_train = X[no_2019], y_inter\n",
        "X_test = X[no_2020]"
      ],
      "execution_count": 0,
      "outputs": []
    },
    {
      "cell_type": "code",
      "metadata": {
        "id": "WaIoOs0aBa4Q",
        "colab_type": "code",
        "colab": {}
      },
      "source": [
        "from sklearn.ensemble import RandomForestRegressor\n",
        "submodel = RandomForestRegressor()\n",
        "submodel.fit(X_train,y_train)\n",
        "submodel.score(X_train,y_train)\n",
        "y_test_pred = submodel.predict(X_test)"
      ],
      "execution_count": 0,
      "outputs": []
    },
    {
      "cell_type": "code",
      "metadata": {
        "id": "W1QJja3sCpv5",
        "colab_type": "code",
        "outputId": "a813d4cd-1de2-4ab3-f0ad-57a845e3ba93",
        "colab": {
          "base_uri": "https://localhost:8080/",
          "height": 53
        }
      },
      "source": [
        "n_bit_pred = np.round(y_test_pred)\n",
        "n_bit_pred"
      ],
      "execution_count": 0,
      "outputs": [
        {
          "output_type": "execute_result",
          "data": {
            "text/plain": [
              "array([ 7., 11.,  8.,  9.,  5.,  5.,  5.,  5.,  5.,  5.,  3.,  8., 12.,\n",
              "        9., 11.,  6.,  6.,  6.,  6.,  6.,  6.,  6.,  6.,  6.,  9.])"
            ]
          },
          "metadata": {
            "tags": []
          },
          "execution_count": 29
        }
      ]
    },
    {
      "cell_type": "code",
      "metadata": {
        "id": "DvRHOjTeFqqK",
        "colab_type": "code",
        "outputId": "607fc19a-49bb-4dad-d1c0-d6f58c7e2c89",
        "colab": {
          "base_uri": "https://localhost:8080/",
          "height": 35
        }
      },
      "source": [
        "np.mean(n_bit_pred)"
      ],
      "execution_count": 0,
      "outputs": [
        {
          "output_type": "execute_result",
          "data": {
            "text/plain": [
              "6.84"
            ]
          },
          "metadata": {
            "tags": []
          },
          "execution_count": 30
        }
      ]
    },
    {
      "cell_type": "code",
      "metadata": {
        "id": "hYfZ0iswDPub",
        "colab_type": "code",
        "colab": {}
      },
      "source": [
        "n_bit = np.concatenate((y_inter,n_bit_pred)).reshape((-1,1))"
      ],
      "execution_count": 0,
      "outputs": []
    },
    {
      "cell_type": "code",
      "metadata": {
        "id": "NkKLxkoHNv1c",
        "colab_type": "code",
        "colab": {}
      },
      "source": [
        "ss = StandardScaler()"
      ],
      "execution_count": 0,
      "outputs": []
    },
    {
      "cell_type": "code",
      "metadata": {
        "id": "wEuGWsmOGfts",
        "colab_type": "code",
        "outputId": "43899373-d575-4440-b990-c10a188b8153",
        "colab": {
          "base_uri": "https://localhost:8080/",
          "height": 35
        }
      },
      "source": [
        "n_bit_norm = ss.fit_transform(n_bit)\n",
        "n_bit_norm.shape"
      ],
      "execution_count": 0,
      "outputs": [
        {
          "output_type": "execute_result",
          "data": {
            "text/plain": [
              "(42, 1)"
            ]
          },
          "metadata": {
            "tags": []
          },
          "execution_count": 33
        }
      ]
    },
    {
      "cell_type": "code",
      "metadata": {
        "id": "hrE5SZczQm-Y",
        "colab_type": "code",
        "outputId": "a29b8002-ad0c-45ab-9653-fee747464e2b",
        "colab": {
          "base_uri": "https://localhost:8080/",
          "height": 35
        }
      },
      "source": [
        "X = np.concatenate((X,n_bit_norm), 1)\n",
        "X.shape"
      ],
      "execution_count": 0,
      "outputs": [
        {
          "output_type": "execute_result",
          "data": {
            "text/plain": [
              "(42, 13)"
            ]
          },
          "metadata": {
            "tags": []
          },
          "execution_count": 34
        }
      ]
    },
    {
      "cell_type": "markdown",
      "metadata": {
        "id": "m7iICo1_qa13",
        "colab_type": "text"
      },
      "source": [
        "# Model"
      ]
    },
    {
      "cell_type": "code",
      "metadata": {
        "id": "0JRDNaT-5ZgS",
        "colab_type": "code",
        "colab": {}
      },
      "source": [
        "X_train, y_train = X[no_2019], y\n",
        "X_test = X[no_2020]"
      ],
      "execution_count": 0,
      "outputs": []
    },
    {
      "cell_type": "code",
      "metadata": {
        "id": "f1H0joziqQz8",
        "colab_type": "code",
        "colab": {}
      },
      "source": [
        "from sklearn.svm import SVR\n",
        "from sklearn.ensemble import RandomForestRegressor, ExtraTreesRegressor"
      ],
      "execution_count": 0,
      "outputs": []
    },
    {
      "cell_type": "code",
      "metadata": {
        "id": "NHHBs_nuHydK",
        "colab_type": "code",
        "colab": {}
      },
      "source": [
        "def get_y_test_pred(model, X_test, print_name=\"\"):\n",
        "  model = model()\n",
        "  model.fit(X_train,y_train)\n",
        "  print(\"R-sq:\", model.score(X_train,y_train) )\n",
        "  y_train_pred = model.predict(X_train)\n",
        "  err_mean = np.mean((y_train_pred - y_train)**2)\n",
        "  err_std = np.std((y_train_pred - y_train)**2)\n",
        "  print(\"[{}] 誤差:0% ~ {:.2f}%\".format( print_name, (err_mean+err_std*3)*100 ))\n",
        "  y_test_pred =model.predict(X_test)\n",
        "  return y_test_pred"
      ],
      "execution_count": 0,
      "outputs": []
    },
    {
      "cell_type": "code",
      "metadata": {
        "id": "Kh7d99mt6Az6",
        "colab_type": "code",
        "outputId": "106ffd9c-5c9d-4d71-fea5-679205887da0",
        "colab": {
          "base_uri": "https://localhost:8080/",
          "height": 179
        }
      },
      "source": [
        "models = [SVR, RandomForestRegressor, ExtraTreesRegressor]\n",
        "print_names = [\"SVR\", \"RandomForestRegressor\", \"ExtraTreesRegressor\"]\n",
        "y_test_pred_list = []\n",
        "for model,name in zip(models,print_names):\n",
        "  y_test_pred_list.append( get_y_test_pred(model, X_test, print_name=name) )\n",
        "  print(\"*\"*64)\n"
      ],
      "execution_count": 0,
      "outputs": [
        {
          "output_type": "stream",
          "text": [
            "R-sq: 0.38727311314737456\n",
            "[SVR] 誤差:0% ~ 1.77%\n",
            "****************************************************************\n",
            "R-sq: 0.8539072922996184\n",
            "[RandomForestRegressor] 誤差:0% ~ 0.86%\n",
            "****************************************************************\n",
            "R-sq: 1.0\n",
            "[ExtraTreesRegressor] 誤差:0% ~ 0.00%\n",
            "****************************************************************\n"
          ],
          "name": "stdout"
        }
      ]
    },
    {
      "cell_type": "code",
      "metadata": {
        "id": "XpkVOgUJI3ni",
        "colab_type": "code",
        "outputId": "4013be8b-d8ee-4eb4-fa5e-fb2226958b34",
        "colab": {
          "base_uri": "https://localhost:8080/",
          "height": 107
        }
      },
      "source": [
        "y_test_pred_list[1]"
      ],
      "execution_count": 0,
      "outputs": [
        {
          "output_type": "execute_result",
          "data": {
            "text/plain": [
              "array([1.09013601, 1.21507203, 1.13961801, 1.20914802, 1.059641  ,\n",
              "       1.17991801, 1.059641  , 1.17991801, 1.059641  , 1.17991801,\n",
              "       1.04251102, 1.13933501, 1.20788802, 1.13908201, 1.20161901,\n",
              "       1.079647  , 1.17927502, 1.079647  , 1.17927502, 1.079647  ,\n",
              "       1.17927502, 1.079647  , 1.17927502, 1.10548701, 1.13860901])"
            ]
          },
          "metadata": {
            "tags": []
          },
          "execution_count": 39
        }
      ]
    },
    {
      "cell_type": "markdown",
      "metadata": {
        "id": "msHEUjcyQtXa",
        "colab_type": "text"
      },
      "source": [
        "# Test"
      ]
    },
    {
      "cell_type": "code",
      "metadata": {
        "id": "jCqKPX2IQ7Ef",
        "colab_type": "code",
        "outputId": "bbe83173-c9c3-4290-a35f-6dc5a213ef4e",
        "colab": {
          "base_uri": "https://localhost:8080/",
          "height": 35
        }
      },
      "source": [
        "X_test.shape"
      ],
      "execution_count": 0,
      "outputs": [
        {
          "output_type": "execute_result",
          "data": {
            "text/plain": [
              "(25, 13)"
            ]
          },
          "metadata": {
            "tags": []
          },
          "execution_count": 40
        }
      ]
    },
    {
      "cell_type": "code",
      "metadata": {
        "id": "nkE_tGpDRAJ3",
        "colab_type": "code",
        "outputId": "581407e6-d689-4333-ac49-3c24b80a57d6",
        "colab": {
          "base_uri": "https://localhost:8080/",
          "height": 35
        }
      },
      "source": [
        "X_test_ = X_test[:, :-1]\n",
        "X_test_.shape"
      ],
      "execution_count": 0,
      "outputs": [
        {
          "output_type": "execute_result",
          "data": {
            "text/plain": [
              "(25, 12)"
            ]
          },
          "metadata": {
            "tags": []
          },
          "execution_count": 41
        }
      ]
    },
    {
      "cell_type": "code",
      "metadata": {
        "id": "-vQ3M0-oRVRZ",
        "colab_type": "code",
        "outputId": "c4617ce0-24f9-4c3a-8598-4ff4f49353dd",
        "colab": {
          "base_uri": "https://localhost:8080/",
          "height": 35
        }
      },
      "source": [
        "n_bit_assumed = np.array(list(range(1,21))).reshape((-1,1))\n",
        "n_bit_assumed_norm = ss.transform(n_bit_assumed)\n",
        "len(n_bit_assumed)"
      ],
      "execution_count": 0,
      "outputs": [
        {
          "output_type": "execute_result",
          "data": {
            "text/plain": [
              "20"
            ]
          },
          "metadata": {
            "tags": []
          },
          "execution_count": 42
        }
      ]
    },
    {
      "cell_type": "code",
      "metadata": {
        "id": "RgMENBk4YVFQ",
        "colab_type": "code",
        "outputId": "2026a0e1-b250-46cb-f432-b87c7db43368",
        "colab": {
          "base_uri": "https://localhost:8080/",
          "height": 35
        }
      },
      "source": [
        "X_list = []\n",
        "is_default_n_bit = []\n",
        "nbs = []\n",
        "for nbn, nb in zip(n_bit_assumed_norm, n_bit_assumed.flatten()):\n",
        "    for x, nb_ in zip(X_test_, n_bit_pred):\n",
        "        X_list.append( np.concatenate( [x,nbn]).reshape((1,-1)) )\n",
        "        is_default_n_bit += [ nb == nb_ ]\n",
        "        nbs.append(nb)\n",
        "X_test_rep = np.concatenate(X_list, 0)\n",
        "X_test_rep.shape"
      ],
      "execution_count": 0,
      "outputs": [
        {
          "output_type": "execute_result",
          "data": {
            "text/plain": [
              "(500, 13)"
            ]
          },
          "metadata": {
            "tags": []
          },
          "execution_count": 43
        }
      ]
    },
    {
      "cell_type": "code",
      "metadata": {
        "id": "buZElgU7cviz",
        "colab_type": "code",
        "outputId": "8d912988-b48e-48d3-de91-67678d004315",
        "colab": {
          "base_uri": "https://localhost:8080/",
          "height": 35
        }
      },
      "source": [
        "is_default_n_bit = np.array(is_default_n_bit)\n",
        "is_default_n_bit.sum()"
      ],
      "execution_count": 0,
      "outputs": [
        {
          "output_type": "execute_result",
          "data": {
            "text/plain": [
              "25"
            ]
          },
          "metadata": {
            "tags": []
          },
          "execution_count": 44
        }
      ]
    },
    {
      "cell_type": "code",
      "metadata": {
        "id": "asSxOLoxc0iz",
        "colab_type": "code",
        "outputId": "5aa0f178-23d0-4274-f87a-1d9830e08a8f",
        "colab": {
          "base_uri": "https://localhost:8080/",
          "height": 35
        }
      },
      "source": [
        "is_default_n_bit[:26].sum()#??"
      ],
      "execution_count": 0,
      "outputs": [
        {
          "output_type": "execute_result",
          "data": {
            "text/plain": [
              "0"
            ]
          },
          "metadata": {
            "tags": []
          },
          "execution_count": 46
        }
      ]
    },
    {
      "cell_type": "code",
      "metadata": {
        "id": "pHMHOyGPUBv3",
        "colab_type": "code",
        "outputId": "c21c8f8f-2f37-465a-f8a9-adbffdb172de",
        "colab": {
          "base_uri": "https://localhost:8080/",
          "height": 179
        }
      },
      "source": [
        "models = [SVR, RandomForestRegressor, ExtraTreesRegressor]\n",
        "print_names = [\"SVR\", \"RandomForestRegressor\", \"ExtraTreesRegressor\"]\n",
        "y_test_pred_list = []\n",
        "for model,name in zip(models,print_names):\n",
        "  y_test_pred_list.append( get_y_test_pred(model, X_test_rep, print_name=name) )\n",
        "  print(\"*\"*64)\n"
      ],
      "execution_count": 0,
      "outputs": [
        {
          "output_type": "stream",
          "text": [
            "R-sq: 0.38727311314737456\n",
            "[SVR] 誤差:0% ~ 1.77%\n",
            "****************************************************************\n",
            "R-sq: 0.8455097887581928\n",
            "[RandomForestRegressor] 誤差:0% ~ 0.96%\n",
            "****************************************************************\n",
            "R-sq: 1.0\n",
            "[ExtraTreesRegressor] 誤差:0% ~ 0.00%\n",
            "****************************************************************\n"
          ],
          "name": "stdout"
        }
      ]
    },
    {
      "cell_type": "code",
      "metadata": {
        "id": "WxWYEFgKUiOk",
        "colab_type": "code",
        "outputId": "3d8a9c84-006e-4934-8791-601e4d27d61b",
        "colab": {
          "base_uri": "https://localhost:8080/",
          "height": 35
        }
      },
      "source": [
        "y_test_pred_list[0].shape"
      ],
      "execution_count": 0,
      "outputs": [
        {
          "output_type": "execute_result",
          "data": {
            "text/plain": [
              "(500,)"
            ]
          },
          "metadata": {
            "tags": []
          },
          "execution_count": 48
        }
      ]
    },
    {
      "cell_type": "markdown",
      "metadata": {
        "id": "n0e7KKnR_5Yy",
        "colab_type": "text"
      },
      "source": [
        "# 匯出"
      ]
    },
    {
      "cell_type": "code",
      "metadata": {
        "id": "trwxmJwVJC5Z",
        "colab_type": "code",
        "colab": {}
      },
      "source": [
        "del df_op[\"投標數\"]\n",
        "del df_op[\"得標總價(元)/標售總價(元)\"]\n",
        "df_op = df_op.iloc[no_2020,:]"
      ],
      "execution_count": 0,
      "outputs": []
    },
    {
      "cell_type": "code",
      "metadata": {
        "id": "8p_1P_csVA1y",
        "colab_type": "code",
        "outputId": "bf1e0065-a1f9-4fda-c40e-d31b73e410c9",
        "colab": {
          "base_uri": "https://localhost:8080/",
          "height": 53
        }
      },
      "source": [
        "print(df_op.shape)\n",
        "df_op = pd.concat([df_op]*len(n_bit_assumed_norm), ignore_index=True)\n",
        "print(df_op.shape)"
      ],
      "execution_count": 0,
      "outputs": [
        {
          "output_type": "stream",
          "text": [
            "(25, 8)\n",
            "(500, 8)\n"
          ],
          "name": "stdout"
        }
      ]
    },
    {
      "cell_type": "code",
      "metadata": {
        "id": "iHy08pCV7FfS",
        "colab_type": "code",
        "colab": {}
      },
      "source": [
        "for i,model_name in enumerate(print_names):\n",
        "  df_op[model_name+\"_\"+\"投標數(假設為)\"] = nbs\n",
        "  df_op[model_name+\"_\"\"得標總價/標售總價(預測)\"] = y_test_pred_list[i]\n",
        "  df_op[model_name+\"_\"\"得標總價(預測)\"] = df_op[\"標售總價(元)\"]*y_test_pred_list[i]"
      ],
      "execution_count": 0,
      "outputs": []
    },
    {
      "cell_type": "code",
      "metadata": {
        "id": "Vdcmipo9JnXe",
        "colab_type": "code",
        "outputId": "0d966860-16f8-4cee-a70a-0efeae918fc4",
        "colab": {
          "base_uri": "https://localhost:8080/",
          "height": 313
        }
      },
      "source": [
        "df_op.head()"
      ],
      "execution_count": 0,
      "outputs": [
        {
          "output_type": "execute_result",
          "data": {
            "text/html": [
              "<div>\n",
              "<style scoped>\n",
              "    .dataframe tbody tr th:only-of-type {\n",
              "        vertical-align: middle;\n",
              "    }\n",
              "\n",
              "    .dataframe tbody tr th {\n",
              "        vertical-align: top;\n",
              "    }\n",
              "\n",
              "    .dataframe thead th {\n",
              "        text-align: right;\n",
              "    }\n",
              "</style>\n",
              "<table border=\"1\" class=\"dataframe\">\n",
              "  <thead>\n",
              "    <tr style=\"text-align: right;\">\n",
              "      <th></th>\n",
              "      <th>次</th>\n",
              "      <th>樓層</th>\n",
              "      <th>棟</th>\n",
              "      <th>號</th>\n",
              "      <th>出售面積(坪)</th>\n",
              "      <th>持分土地面積(坪)</th>\n",
              "      <th>標售單價(元/m2)</th>\n",
              "      <th>標售總價(元)</th>\n",
              "      <th>SVR_投標數(假設為)</th>\n",
              "      <th>SVR_得標總價/標售總價(預測)</th>\n",
              "      <th>SVR_得標總價(預測)</th>\n",
              "      <th>RandomForestRegressor_投標數(假設為)</th>\n",
              "      <th>RandomForestRegressor_得標總價/標售總價(預測)</th>\n",
              "      <th>RandomForestRegressor_得標總價(預測)</th>\n",
              "      <th>ExtraTreesRegressor_投標數(假設為)</th>\n",
              "      <th>ExtraTreesRegressor_得標總價/標售總價(預測)</th>\n",
              "      <th>ExtraTreesRegressor_得標總價(預測)</th>\n",
              "    </tr>\n",
              "  </thead>\n",
              "  <tbody>\n",
              "    <tr>\n",
              "      <th>0</th>\n",
              "      <td>2020</td>\n",
              "      <td>8</td>\n",
              "      <td>C</td>\n",
              "      <td>_1</td>\n",
              "      <td>29.79</td>\n",
              "      <td>5.31</td>\n",
              "      <td>69723</td>\n",
              "      <td>6865651</td>\n",
              "      <td>1</td>\n",
              "      <td>1.118793</td>\n",
              "      <td>7.681240e+06</td>\n",
              "      <td>1</td>\n",
              "      <td>1.056261</td>\n",
              "      <td>7.251919e+06</td>\n",
              "      <td>1</td>\n",
              "      <td>1.071988</td>\n",
              "      <td>7.359895e+06</td>\n",
              "    </tr>\n",
              "    <tr>\n",
              "      <th>1</th>\n",
              "      <td>2020</td>\n",
              "      <td>8</td>\n",
              "      <td>C</td>\n",
              "      <td>_2</td>\n",
              "      <td>32.10</td>\n",
              "      <td>5.77</td>\n",
              "      <td>67803</td>\n",
              "      <td>7195300</td>\n",
              "      <td>1</td>\n",
              "      <td>1.129000</td>\n",
              "      <td>8.123497e+06</td>\n",
              "      <td>1</td>\n",
              "      <td>1.104996</td>\n",
              "      <td>7.950778e+06</td>\n",
              "      <td>1</td>\n",
              "      <td>1.147116</td>\n",
              "      <td>8.253844e+06</td>\n",
              "    </tr>\n",
              "    <tr>\n",
              "      <th>2</th>\n",
              "      <td>2020</td>\n",
              "      <td>9</td>\n",
              "      <td>C</td>\n",
              "      <td>_1</td>\n",
              "      <td>29.79</td>\n",
              "      <td>5.31</td>\n",
              "      <td>70873</td>\n",
              "      <td>6978853</td>\n",
              "      <td>1</td>\n",
              "      <td>1.127093</td>\n",
              "      <td>7.865817e+06</td>\n",
              "      <td>1</td>\n",
              "      <td>1.056261</td>\n",
              "      <td>7.371490e+06</td>\n",
              "      <td>1</td>\n",
              "      <td>1.071988</td>\n",
              "      <td>7.481247e+06</td>\n",
              "    </tr>\n",
              "    <tr>\n",
              "      <th>3</th>\n",
              "      <td>2020</td>\n",
              "      <td>9</td>\n",
              "      <td>C</td>\n",
              "      <td>_2</td>\n",
              "      <td>32.10</td>\n",
              "      <td>5.77</td>\n",
              "      <td>68983</td>\n",
              "      <td>7320490</td>\n",
              "      <td>1</td>\n",
              "      <td>1.131865</td>\n",
              "      <td>8.285808e+06</td>\n",
              "      <td>1</td>\n",
              "      <td>1.099872</td>\n",
              "      <td>8.051602e+06</td>\n",
              "      <td>1</td>\n",
              "      <td>1.146041</td>\n",
              "      <td>8.389582e+06</td>\n",
              "    </tr>\n",
              "    <tr>\n",
              "      <th>4</th>\n",
              "      <td>2020</td>\n",
              "      <td>1</td>\n",
              "      <td>C</td>\n",
              "      <td>_1</td>\n",
              "      <td>29.79</td>\n",
              "      <td>5.31</td>\n",
              "      <td>72053</td>\n",
              "      <td>7095034</td>\n",
              "      <td>1</td>\n",
              "      <td>1.133001</td>\n",
              "      <td>8.038679e+06</td>\n",
              "      <td>1</td>\n",
              "      <td>1.044180</td>\n",
              "      <td>7.408493e+06</td>\n",
              "      <td>1</td>\n",
              "      <td>1.029476</td>\n",
              "      <td>7.304167e+06</td>\n",
              "    </tr>\n",
              "  </tbody>\n",
              "</table>\n",
              "</div>"
            ],
            "text/plain": [
              "      次  樓層  ... ExtraTreesRegressor_得標總價/標售總價(預測) ExtraTreesRegressor_得標總價(預測)\n",
              "0  2020   8  ...                          1.071988                 7.359895e+06\n",
              "1  2020   8  ...                          1.147116                 8.253844e+06\n",
              "2  2020   9  ...                          1.071988                 7.481247e+06\n",
              "3  2020   9  ...                          1.146041                 8.389582e+06\n",
              "4  2020   1  ...                          1.029476                 7.304167e+06\n",
              "\n",
              "[5 rows x 17 columns]"
            ]
          },
          "metadata": {
            "tags": []
          },
          "execution_count": 52
        }
      ]
    },
    {
      "cell_type": "code",
      "metadata": {
        "id": "J5AGUeUG80o1",
        "colab_type": "code",
        "colab": {}
      },
      "source": [
        "df_op.to_csv(\"house_pred_2.csv\", encoding=\"big5\")"
      ],
      "execution_count": 0,
      "outputs": []
    },
    {
      "cell_type": "markdown",
      "metadata": {
        "id": "Nh3e5zAC_7sc",
        "colab_type": "text"
      },
      "source": [
        "# 分析"
      ]
    },
    {
      "cell_type": "code",
      "metadata": {
        "id": "hRMZFyY0-MND",
        "colab_type": "code",
        "colab": {}
      },
      "source": [
        "from sklearn.svm import SVR\n",
        "lr_ = SVR(kernel=\"linear\")\n",
        "lr_.fit(X_train,y_train)\n",
        "coef = lr_.coef_[0]"
      ],
      "execution_count": 0,
      "outputs": []
    },
    {
      "cell_type": "code",
      "metadata": {
        "id": "7_A2OuxYMNrl",
        "colab_type": "code",
        "outputId": "73fa2eaa-4469-449a-e128-28df7c041cf7",
        "colab": {
          "base_uri": "https://localhost:8080/",
          "height": 70
        }
      },
      "source": [
        "coef"
      ],
      "execution_count": 0,
      "outputs": [
        {
          "output_type": "execute_result",
          "data": {
            "text/plain": [
              "array([ 0.01905557, -0.01514689,  0.00107597, -0.00498465,  0.0054159 ,\n",
              "        0.00973099, -0.01514689,  0.        , -0.0131775 ,  0.01112483,\n",
              "        0.01144824,  0.01613987,  0.03121172])"
            ]
          },
          "metadata": {
            "tags": []
          },
          "execution_count": 84
        }
      ]
    },
    {
      "cell_type": "code",
      "metadata": {
        "id": "5KwpMot8FHs4",
        "colab_type": "code",
        "colab": {}
      },
      "source": [
        "feature_names += [\"投標數(假設為)\"]"
      ],
      "execution_count": 0,
      "outputs": []
    },
    {
      "cell_type": "code",
      "metadata": {
        "id": "uU36UGICE54Q",
        "colab_type": "code",
        "colab": {}
      },
      "source": [
        "feature_names = np.array(feature_names)"
      ],
      "execution_count": 0,
      "outputs": []
    },
    {
      "cell_type": "code",
      "metadata": {
        "id": "sSaf40BLLkin",
        "colab_type": "code",
        "colab": {}
      },
      "source": [
        "coef_sort = np.sort(coef)"
      ],
      "execution_count": 0,
      "outputs": []
    },
    {
      "cell_type": "code",
      "metadata": {
        "id": "8TrIELtFAUaQ",
        "colab_type": "code",
        "outputId": "4c3f8048-c1f3-4571-a12e-ee3d73ab3ebf",
        "colab": {
          "base_uri": "https://localhost:8080/",
          "height": 245
        }
      },
      "source": [
        "rank = list(feature_names[ np.argsort(coef)])\n",
        "rank"
      ],
      "execution_count": 0,
      "outputs": [
        {
          "output_type": "execute_result",
          "data": {
            "text/plain": [
              "['棟_B',\n",
              " '號_3',\n",
              " '樓層',\n",
              " '棟_D',\n",
              " '號_5',\n",
              " '棟_C',\n",
              " '號_1',\n",
              " '號_2',\n",
              " '出售面積(坪)',\n",
              " '持分土地面積(坪)',\n",
              " '標售單價(元/m2)',\n",
              " '棟_A',\n",
              " '投標數(假設為)']"
            ]
          },
          "metadata": {
            "tags": []
          },
          "execution_count": 88
        }
      ]
    },
    {
      "cell_type": "code",
      "metadata": {
        "id": "35x0GLoxKsHb",
        "colab_type": "code",
        "outputId": "cbd27ce3-71d7-486c-93dd-27748259ef6e",
        "colab": {
          "base_uri": "https://localhost:8080/",
          "height": 245
        }
      },
      "source": [
        "dict(zip(range(len(rank),0,-1), [(r,round(c,4)) for r,c in zip(rank, coef_sort)]  ))"
      ],
      "execution_count": 0,
      "outputs": [
        {
          "output_type": "execute_result",
          "data": {
            "text/plain": [
              "{1: ('投標數(假設為)', 0.0312),\n",
              " 2: ('棟_A', 0.0191),\n",
              " 3: ('標售單價(元/m2)', 0.0161),\n",
              " 4: ('持分土地面積(坪)', 0.0114),\n",
              " 5: ('出售面積(坪)', 0.0111),\n",
              " 6: ('號_2', 0.0097),\n",
              " 7: ('號_1', 0.0054),\n",
              " 8: ('棟_C', 0.0011),\n",
              " 9: ('號_5', 0.0),\n",
              " 10: ('棟_D', -0.005),\n",
              " 11: ('樓層', -0.0132),\n",
              " 12: ('號_3', -0.0151),\n",
              " 13: ('棟_B', -0.0151)}"
            ]
          },
          "metadata": {
            "tags": []
          },
          "execution_count": 89
        }
      ]
    },
    {
      "cell_type": "code",
      "metadata": {
        "id": "X4wH-SCDLAQs",
        "colab_type": "code",
        "colab": {}
      },
      "source": [
        ""
      ],
      "execution_count": 0,
      "outputs": []
    }
  ]
}